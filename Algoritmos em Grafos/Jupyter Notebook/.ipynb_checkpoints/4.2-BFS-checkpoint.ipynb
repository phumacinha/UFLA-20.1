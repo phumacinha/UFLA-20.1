{
 "cells": [
  {
   "cell_type": "markdown",
   "metadata": {},
   "source": [
    "# Percursos em Grafos\n",
    "## Busca em Largura (BFS, do inglês *Breadth First Search*)\n",
    "*Universidade Federal de Lavras  \n",
    "Departamento de Ciência da Computação  \n",
    "GCC218 - Algoritmos em Grafos  \n",
    "Professor: Mayron Moreira*"
   ]
  },
  {
   "cell_type": "markdown",
   "metadata": {},
   "source": [
    "## BFS\n",
    "\n",
    "Considere um grafo $G=(V,E)$ não-ponderado qualquer e a seguinte tarefa: determinar o menor número de arestas que percorremos de uma fonte $s$ aos vértices $V \\backslash \\{s\\}$.\n",
    "\n",
    "### Definição do problema\n",
    "\n",
    "* **Problema do Menor Caminho em Grafos Não-Ponderados**\n",
    "    * **Instância**: um grafo não ponderado qualquer, e um vértice origem (fonte) $s$.  \n",
    "    * **Saída**: um grafo que contenha o menor número de arestas que conecta à fonte $s$.\n",
    "    \n",
    "Esse problema pode ser resolvido através do Algoritmo de Busca em Largura, comumente referenciado por BFS (devido as suas iniciais em inglês). A partir dos vértices de uma camada, a BFS explora todos os vértices ainda não alcançados da camada posterior, até que não haja vértices a serem visitados. Para tanto, o algoritmo utilizada a estrutura de dados **fila**. Vejamos um exemplo de implementação da BFS."
   ]
  },
  {
   "cell_type": "markdown",
   "metadata": {},
   "source": [
    "### Grafo de teste"
   ]
  },
  {
   "cell_type": "code",
   "execution_count": 2,
   "metadata": {},
   "outputs": [
    {
     "data": {
      "image/png": "[encoded data removed]",
      "text/plain": [
       "<Figure size 432x288 with 1 Axes>"
      ]
     },
     "metadata": {},
     "output_type": "display_data"
    }
   ],
   "source": [
    "import networkx as nx\n",
    "import matplotlib.pyplot as plt\n",
    "\n",
    "G = nx.Graph()\n",
    "n = 13 # Número de vértices do grafo exemplo\n",
    "\n",
    "# Adicionando os vértices em G\n",
    "for i in range(n):\n",
    "    G.add_node(i)\n",
    "\n",
    "# Acrescentando suas arestas\n",
    "G.add_edge(0, 1)\n",
    "G.add_edge(0, 4)\n",
    "G.add_edge(1, 2)\n",
    "G.add_edge(1, 5)\n",
    "G.add_edge(2, 3)\n",
    "G.add_edge(2, 6)\n",
    "G.add_edge(3, 7)\n",
    "G.add_edge(4, 8)\n",
    "G.add_edge(5, 6)\n",
    "G.add_edge(5, 10)\n",
    "G.add_edge(6, 11)\n",
    "G.add_edge(7, 12)\n",
    "G.add_edge(8, 9)\n",
    "G.add_edge(9, 10)\n",
    "G.add_edge(10, 11)\n",
    "G.add_edge(11, 12)\n",
    "\n",
    "# Desenho de G\n",
    "nx.draw(G, with_labels=True, font_weight='bold')\n",
    "plt.show()"
   ]
  },
  {
   "cell_type": "markdown",
   "metadata": {},
   "source": [
    "### Algoritmo"
   ]
  },
  {
   "cell_type": "code",
   "execution_count": 3,
   "metadata": {},
   "outputs": [],
   "source": [
    "# Nosso infinito\n",
    "INFINITO = 100000\n",
    "\n",
    "'''\n",
    "As cores identificarao de o vertice foi ou nao visitado.\n",
    "Notacao:\n",
    "B - vertice ainda nao descoberto (Branco)\n",
    "C - vertice descoberto que esta na fila (Cinza)\n",
    "P - vertice que ja fora visitado (Preto)\n",
    "''' \n",
    "cor = ['B' for i in range(n)]\n",
    "\n",
    "# Pai de cada vertice na BFS\n",
    "pai = [-1 for i in range(n)]\n",
    "\n",
    "# Distancia do vertice em relacao ao vertice de origem\n",
    "dist = [INFINITO for i in range(n)]\n",
    "\n",
    "'''\n",
    "Parametros:\n",
    "grafo - corresponde a uma estrutura de dados em grafo\n",
    "s - vertice de origem\n",
    "'''\n",
    "def BFS(grafo, s):\n",
    "    # Inicializando o vertice origem\n",
    "    dist[s] = 0\n",
    "    cor[s] = 'C'\n",
    "    \n",
    "    # Fila que gerenciara os vertices a serem explorados em uma camada\n",
    "    Q = []\n",
    "    Q.append(s)\n",
    "    \n",
    "    # Enquanto a fila nao for vazia\n",
    "    while(Q != []):\n",
    "        # Vertice atual a ser explorado\n",
    "        u = Q.pop(0)\n",
    "        \n",
    "        vizinhos = obtemVizinhos(grafo, u)\n",
    "        \n",
    "        for v in vizinhos:\n",
    "            # Vamos explorar os vertices brancos\n",
    "            if(cor[v] == 'B'):\n",
    "                cor[v] = 'C'\n",
    "                pai[v] = u\n",
    "                dist[v] = dist[u] + 1\n",
    "                Q.append(v)\n",
    "                \n",
    "        cor[u] = 'P'\n",
    "\n",
    "# Considerando grafo como uma lista de adjacencia\n",
    "def obtemVizinhos(grafo, u):\n",
    "    return grafo[u]"
   ]
  },
  {
   "cell_type": "markdown",
   "metadata": {},
   "source": [
    "Tomando uma matriz de adjacência para representar $G=(V,E)$, com $|V|=n$ e $|E|=m$, vemos que a implementação acima gasta $O(n) + O(m) = O(n+m)$, em que $O(n)$ corresponde à inicialização das estruturas auxiliares do algoritmo (*\"cor\", \"pai\" e \"dist\"*), e $O(m)$ vem do pior caso de termos um grafo não-orientado e conexo, pois:  \n",
    "\n",
    "* o *loop* do *while* executará $n$ vezes, e para cada vértice, visitamos toda a sua vizinhança.  \n",
    "* note que um vértice branco só muda de cor para cinza e preto exatamente uma vez (se for alcançável, claro).   \n",
    "* Logo, o *while* executará $\\sum_{v \\in V} d(v)$, em que $d(v)$ é o grau de cada vértice.  \n",
    "* Pelo Teorema do Aperto de Mãos, $\\sum_{v \\in V} d(v) = 2m \\in O(m)$.  "
   ]
  },
  {
   "cell_type": "markdown",
   "metadata": {},
   "source": [
    "#### Testando"
   ]
  },
  {
   "cell_type": "code",
   "execution_count": 4,
   "metadata": {},
   "outputs": [],
   "source": [
    "# Arestas de G\n",
    "E = G.edges()\n",
    "\n",
    "# Lista de adjacencia de G\n",
    "listaAdj = [[] for i in range(n)]\n",
    "for e in E:\n",
    "    listaAdj[e[0]].append(e[1])\n",
    "    listaAdj[e[1]].append(e[0])\n",
    "    \n",
    "# Source\n",
    "s = 5\n",
    "\n",
    "BFS(listaAdj, s)"
   ]
  },
  {
   "cell_type": "markdown",
   "metadata": {},
   "source": [
    "Imprimindo a árvore em largura, isto é, o grafo com a menor quantidade de arestas de $s$ aos demais vértices."
   ]
  },
  {
   "cell_type": "code",
   "execution_count": 5,
   "metadata": {},
   "outputs": [
    {
     "data": {
      "image/png": "[encoded data removed]",
      "text/plain": [
       "<Figure size 432x288 with 1 Axes>"
      ]
     },
     "metadata": {},
     "output_type": "display_data"
    }
   ],
   "source": [
    "# Resposta da BFS\n",
    "G1 = nx.Graph()\n",
    "for i in range(n):\n",
    "    G1.add_node(i)\n",
    "\n",
    "# Acrescentando a arvore em largura\n",
    "for i in range(n):\n",
    "    if(pai[i] != -1):\n",
    "        G1.add_edge(pai[i], i)\n",
    "        \n",
    "# Desenho de G1\n",
    "nx.draw(G1, with_labels=True, font_weight='bold')\n",
    "plt.show()"
   ]
  },
  {
   "cell_type": "markdown",
   "metadata": {},
   "source": [
    "### Exercício\n",
    "\n",
    "* Implemente uma função, baseada na BFS, que verifica se um grafo não-direcionado e não-ponderado é um **grafo bipartido**.  "
   ]
  },
  {
   "cell_type": "code",
   "execution_count": null,
   "metadata": {},
   "outputs": [],
   "source": []
  }
 ],
 "metadata": {
  "kernelspec": {
   "display_name": "Python 3",
   "language": "python",
   "name": "python3"
  },
  "language_info": {
   "codemirror_mode": {
    "name": "ipython",
    "version": 3
   },
   "file_extension": ".py",
   "mimetype": "text/x-python",
   "name": "python",
   "nbconvert_exporter": "python",
   "pygments_lexer": "ipython3",
   "version": "3.8.2"
  }
 },
 "nbformat": 4,
 "nbformat_minor": 2
}
