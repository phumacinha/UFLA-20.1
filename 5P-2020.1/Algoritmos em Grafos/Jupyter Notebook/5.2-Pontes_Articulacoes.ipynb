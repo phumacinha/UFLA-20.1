{
 "cells": [
  {
   "cell_type": "markdown",
   "metadata": {},
   "source": [
    "# Percursos em Grafos\n",
    "## Pontes e Vértices de Articulação\n",
    "*Universidade Federal de Lavras  \n",
    "Departamento de Ciência da Computação  \n",
    "GCC218 - Algoritmos em Grafos  \n",
    "Professor: Mayron Moreira*\n",
    "\n",
    "*Material baseado em: https://www.ime.usp.br/~pf/algoritmos_para_grafos/aulas/e-biconnected-graphs.html#sec:bridges-and-dfs*"
   ]
  },
  {
   "cell_type": "markdown",
   "metadata": {},
   "source": [
    "## Pontes\n",
    "\n",
    "> A ponte não é de concreto, não é de ferro  \n",
    "  Não é de cimento  \n",
    "  A ponte é até onde vai o meu pensamento   \n",
    "> - A Ponte (Lenine, do álbum \"O Dia em Que Faremos Contato\")  \n",
    "\n",
    "A detecção de pontes em grafos não-orientados pressupõe a utilização do teorema, mostrado na sequência. Antes, vejamos a seguinte definição.\n",
    "\n",
    "**Abraço**. Considere uma floresta de uma DFS de $G=(V,E)$ não-orientado. Dizemos que uma aresta $(x,y)$ de $G$ *abraça* a aresta $(u,v)$ da floresta DFS se:  \n",
    "* $x$ é descendente de $v$ na floresta DFS;  \n",
    "* $y$ é ancestral de $u$ na floresta DFS;  \n",
    "* a aresta $(x,y)$ é diferente da aresta $(u,v)$.  \n",
    "\n",
    "Como exemplo, considere o grafo mostrado abaixo."
   ]
  },
  {
   "cell_type": "code",
   "execution_count": 14,
   "metadata": {},
   "outputs": [
    {
     "data": {
      "image/png": "[encoded data removed]",
      "text/plain": [
       "<Figure size 432x288 with 1 Axes>"
      ]
     },
     "metadata": {},
     "output_type": "display_data"
    }
   ],
   "source": [
    "import networkx as nx\n",
    "import matplotlib.pyplot as plt\n",
    "\n",
    "G = nx.Graph()\n",
    "n = 8 # Número de vértices do grafo exemplo\n",
    "\n",
    "# Adicionando os vértices em G\n",
    "for i in range(n):\n",
    "    G.add_node(i)\n",
    "\n",
    "# Acrescentando suas arestas\n",
    "G.add_edge(0, 1)\n",
    "G.add_edge(0, 3)\n",
    "G.add_edge(1, 2)\n",
    "G.add_edge(2, 3)\n",
    "G.add_edge(2, 4)\n",
    "G.add_edge(4, 5)\n",
    "G.add_edge(4, 6)\n",
    "G.add_edge(4, 7)\n",
    "G.add_edge(6, 7)\n",
    "\n",
    "# Desenho de G\n",
    "nx.draw(G, pos=nx.spring_layout(G), with_labels=True, font_weight='bold')\n",
    "plt.show()"
   ]
  },
  {
   "cell_type": "markdown",
   "metadata": {},
   "source": [
    "Ao executar a DFS partindo do vértice 0, e priorizando a ordem lexicográfica do vértice vizinho, obtemos a seguinte árvore."
   ]
  },
  {
   "cell_type": "code",
   "execution_count": 9,
   "metadata": {},
   "outputs": [
    {
     "data": {
      "image/png": "[encoded data removed]",
      "text/plain": [
       "<Figure size 432x288 with 1 Axes>"
      ]
     },
     "metadata": {},
     "output_type": "display_data"
    }
   ],
   "source": [
    "dfs_tree = nx.Graph()\n",
    "\n",
    "# Adicionando os vértices em G\n",
    "for i in range(n):\n",
    "    dfs_tree.add_node(i)\n",
    "\n",
    "# Acrescentando suas arestas\n",
    "dfs_tree.add_edge(0, 1)\n",
    "dfs_tree.add_edge(1, 2)\n",
    "dfs_tree.add_edge(2, 3)\n",
    "dfs_tree.add_edge(2, 4)\n",
    "dfs_tree.add_edge(4, 5)\n",
    "dfs_tree.add_edge(4, 6)\n",
    "dfs_tree.add_edge(6, 7)\n",
    "\n",
    "# Desenho da árvore DFS\n",
    "nx.draw(dfs_tree, pos=nx.spring_layout(G), with_labels=True, font_weight='bold')\n",
    "plt.show()"
   ]
  },
  {
   "cell_type": "markdown",
   "metadata": {},
   "source": [
    "Tomando $(x,y) = (1,0)$ e $(u,v) = (3,0)$, vemos que $(x,y)$ **abraça** $(u,v)$, pois $(x,y) = (1,0) \\neq (u,v) = (3,0)$, 1 ($x$) é descendente de 0 ($v$) na DFS, e 0 ($y$) é ancestral de 3 ($u$) na DFS.\n",
    "\n",
    "O **Algoritmo de [Tarjan](https://en.wikipedia.org/wiki/Robert_Tarjan)**, utilizado para detecção de pontes em grafos não-orientados, parte do seguinte pressuposto.\n",
    "\n",
    "**Lema**. Depois de uma DFS em um grafo não-orientado $G$, uma aresta $(u,v)$ da floresta DFS é ponte se, e somente se, nenhuma aresta abraça $(u,v)$."
   ]
  },
  {
   "cell_type": "markdown",
   "metadata": {},
   "source": [
    "### Implementação\n",
    "\n",
    "O código do **Algoritmo de Tarjan** é fortemente baseado no Algoritmo DFS. Para tanto, definiremos um vetor $low[0..n-1]$ tal que $low[v]$ indica o tempo de descoberta pré-ordem mais cedo do vértice $v$. Esse valor é definido por:  \n",
    "\n",
    "* Se $pai[v] = v$, então $low[v]$ corresponde ao seu próprio tempo de descoberta ($low[v] = d[v]$);  \n",
    "* Se a aresta $(pai[v],v)$ é uma aresta não abraçada por outra, então $low[v] = d[v]$;  \n",
    "* Nos outros casos, $low[v] = \\min_{u}\\{d[u]\\}$, ou seja, o mínimo do tempo de descoberta mínimo das arestas que abraçam $(pai[v],v)$.  "
   ]
  },
  {
   "cell_type": "markdown",
   "metadata": {},
   "source": [
    "Estruturas utilizadas."
   ]
  },
  {
   "cell_type": "code",
   "execution_count": 15,
   "metadata": {},
   "outputs": [],
   "source": [
    "# Tempo de descoberta de cada vértice\n",
    "d = [-1 for i in range(n)]\n",
    "\n",
    "# Pai de cada vértice\n",
    "pai = [-1 for i in range(n)]\n",
    "\n",
    "# Vetor low\n",
    "low = [-1 for i in range(n)]\n",
    "\n",
    "# Tempo global de descoberta\n",
    "tempo = 0\n",
    "\n",
    "# conjunto de arestas do grafo G\n",
    "E = G.edges()\n",
    "\n",
    "# Lista de adjacencia do grafo G\n",
    "listaAdj = [ [] for i in range(n)]\n",
    "for e in E:\n",
    "    listaAdj[e[0]].append(e[1])\n",
    "    listaAdj[e[1]].append(e[0])"
   ]
  },
  {
   "cell_type": "markdown",
   "metadata": {},
   "source": [
    "Adaptação do Algoritmo DFS proposto em Cormen et al. (2009)."
   ]
  },
  {
   "cell_type": "code",
   "execution_count": 16,
   "metadata": {},
   "outputs": [],
   "source": [
    "# Adaptacao da DFS (veja CLRS 2009)\n",
    "def obtemPontes(listaAdj):\n",
    "    for v in range(n):\n",
    "        if(pai[v] == -1):\n",
    "            pai[v] = v\n",
    "            pontes(listaAdj, v)\n",
    "    \n",
    "    # Lista de pontes\n",
    "    listaPontes = []\n",
    "    \n",
    "    '''\n",
    "    Imprimindo as pontes: se low[v] = d[v] E pai[v] != v\n",
    "    '''\n",
    "    for v in range(n):\n",
    "        if(low[v] == d[v] and pai[v] != v):\n",
    "            listaPontes.append((pai[v],v))\n",
    "            \n",
    "    return listaPontes"
   ]
  },
  {
   "cell_type": "markdown",
   "metadata": {},
   "source": [
    "Adaptação do Algoritmo DFS-VISIT proposto em Cormen et al. (2009)."
   ]
  },
  {
   "cell_type": "code",
   "execution_count": 17,
   "metadata": {},
   "outputs": [],
   "source": [
    "# Adaptação da DFS-VISIT (veja CLRS 2009)\n",
    "def pontes(listaAdj, u):\n",
    "    global tempo\n",
    "    d[u] = tempo # descobrindo o vertice u\n",
    "    tempo = tempo + 1\n",
    "    \n",
    "    minimo = d[u] # Auxiliar para o calculo de low[u]\n",
    "    \n",
    "    for v in listaAdj[u]:\n",
    "        if(d[v] == -1): # Vertice ainda branco\n",
    "            pai[v] = u\n",
    "            pontes(listaAdj, v)\n",
    "            \n",
    "            '''\n",
    "            Em alguma chama recursiva, podemos reduzir o \n",
    "            indice do vertice que abraca uma aresta incidente \n",
    "            a u\n",
    "            ''' \n",
    "            if(low[v] < minimo):\n",
    "                minimo = low[v]\n",
    "        \n",
    "        # Atualizando minimo por meio de uma aresta de retorno\n",
    "        elif(d[v] < minimo and v != pai[u]):\n",
    "            minimo = d[v]\n",
    "    \n",
    "    # Atualizacao de low[u] atraves de sua definicao, descrita acima\n",
    "    low[u] = minimo"
   ]
  },
  {
   "cell_type": "markdown",
   "metadata": {},
   "source": [
    "Executando e imprimindo as pontes do grafo."
   ]
  },
  {
   "cell_type": "code",
   "execution_count": 19,
   "metadata": {},
   "outputs": [
    {
     "name": "stdout",
     "output_type": "stream",
     "text": [
      "Pontes:\n",
      "( 2 , 4 )\n",
      "( 4 , 5 )\n"
     ]
    }
   ],
   "source": [
    "listaPontes = obtemPontes(listaAdj)\n",
    "\n",
    "print(\"Pontes:\")\n",
    "for e in listaPontes:\n",
    "    print(\"(\", e[0], \",\", e[1], \")\")\n",
    "\n",
    "'''\n",
    "Outra forma de desenhar G (extraído de: \n",
    "https://docs.bokeh.org/en/latest/docs/user_guide/graph.html)\n",
    "''' \n",
    "from bokeh.io import show, output_file\n",
    "from bokeh.models import Plot, Range1d, MultiLine, Circle, HoverTool, BoxZoomTool, ResetTool\n",
    "from bokeh.plotting import from_networkx\n",
    "from bokeh.palettes import Spectral4\n",
    "\n",
    "edge_attrs = {}\n",
    "for e in E:\n",
    "    if(e not in listaPontes):\n",
    "        edge_attrs[(e[0], e[1])] = \"black\"\n",
    "    else:\n",
    "        edge_attrs[(e[0], e[1])] = \"red\"\n",
    "\n",
    "nx.set_edge_attributes(G, edge_attrs, \"edge_color\")\n",
    "\n",
    "# Show with Bokeh\n",
    "plot = Plot(plot_width=400, plot_height=400,\n",
    "            x_range=Range1d(-1.1, 1.1), y_range=Range1d(-1.1, 1.1))\n",
    "plot.title.text = \"Graph Interaction Demonstration\"\n",
    "\n",
    "node_hover_tool = HoverTool(tooltips=[(\"index\", \"@index\")])\n",
    "plot.add_tools(node_hover_tool, BoxZoomTool(), ResetTool())\n",
    "\n",
    "graph_renderer = from_networkx(G, nx.spring_layout, scale=1, center=(0, 0))\n",
    "\n",
    "graph_renderer.node_renderer.glyph = Circle(size=15, fill_color=Spectral4[0])\n",
    "graph_renderer.edge_renderer.glyph = MultiLine(line_color=\"edge_color\", line_alpha=0.8, line_width=1)\n",
    "plot.renderers.append(graph_renderer)\n",
    "\n",
    "output_file(\"interactive_graphs.html\")\n",
    "show(plot)"
   ]
  },
  {
   "cell_type": "markdown",
   "metadata": {},
   "source": [
    "## Vértices de articulação\n",
    "\n",
    "Podemos calcular os vértices de articulação em um grafo não-orientado juntamente com o **Algoritmo de Tarjan**, mostrado acima. O raciocício é o seguinte:  \n",
    "\n",
    "* Quando um vértice $u$ tem como vizinho um vértice $v$, e $low[v] \\ge d[u]$, então $u$ é um vértice de articulação. Em outras palavras: para alcançar o ancestral(is) de $u$ através de $v$, devemos obrigatoriamente passar por $u$;  \n",
    "* Caso especial: quando $r$ é a raíz da árvore DFS e se durante a busca, $r$ possuir mais de um filho, então $r$ será um vértice de articulação.  "
   ]
  },
  {
   "cell_type": "markdown",
   "metadata": {},
   "source": [
    "Adaptação do Algoritmo DFS proposto em Cormen et al. (2009) para a detecção de **pontes** e **vértices de articulação**."
   ]
  },
  {
   "cell_type": "markdown",
   "metadata": {},
   "source": [
    "Estruturas utilizadas."
   ]
  },
  {
   "cell_type": "code",
   "execution_count": 7,
   "metadata": {},
   "outputs": [],
   "source": [
    "root = 0 # Raiz da DFS\n",
    "n_filhos_root = 0 # Numero de filhos da raiz DFS\n",
    "\n",
    "for i in range(n):\n",
    "    d[i] = pai[i] = low[i] = -1\n",
    "\n",
    "# Tempo global de descoberta\n",
    "tempo = 0"
   ]
  },
  {
   "cell_type": "markdown",
   "metadata": {},
   "source": [
    "Adaptação do Algoritmo DFS proposto em Cormen et al. (2009) para a detecção de **pontes** e **vértices de articulação**."
   ]
  },
  {
   "cell_type": "code",
   "execution_count": 20,
   "metadata": {},
   "outputs": [],
   "source": [
    "def obtemPontesArticulacoes(listaAdj):\n",
    "    global root\n",
    "    global n_filhos_root\n",
    "    \n",
    "    # articulacao[v] eh True se v eh um vertice de articulacao\n",
    "    articulacoes = [False for i in range(n)]    \n",
    "\n",
    "    # Lista de pontes\n",
    "    lista_pontes = []\n",
    "    \n",
    "    for v in range(n):\n",
    "        if(pai[v] == -1):\n",
    "            root = v\n",
    "            n_filhos_root = 0\n",
    "            pai[v] = v\n",
    "            pontesArticulacoes(listaAdj, v, lista_pontes, articulacoes)\n",
    "            \n",
    "            # Se a raiz da DFS tem mais de um filho, entao a raiz eh vertice de articulacao\n",
    "            articulacoes[root] = (n_filhos_root > 1)\n",
    "            \n",
    "    # Lista de pontes\n",
    "    listaPontes = []\n",
    "        \n",
    "    '''\n",
    "    Imprimindo as pontes: se low[v] = d[v] E pai[v] != v\n",
    "    '''\n",
    "    for v in range(n):\n",
    "        if(low[v] == d[v] and pai[v] != v):\n",
    "            listaPontes.append((pai[v],v))\n",
    "            \n",
    "    return listaPontes, articulacoes"
   ]
  },
  {
   "cell_type": "markdown",
   "metadata": {},
   "source": [
    "Adaptação do Algoritmo DFS-VISIT proposto em Cormen et al. (2009) para a detecção de **pontes** e **vértices de articulação**."
   ]
  },
  {
   "cell_type": "code",
   "execution_count": 21,
   "metadata": {},
   "outputs": [],
   "source": [
    "# Adaptacao da DFS (veja CLRS 2009)\n",
    "def pontesArticulacoes(listaAdj, u, lista_pontes, articulacoes):\n",
    "    global root\n",
    "    global n_filhos_root\n",
    "    global tempo\n",
    "    \n",
    "    d[u] = tempo # descobrindo o vertice u\n",
    "    tempo = tempo + 1\n",
    "    \n",
    "    minimo = d[u] # Auxiliar para o calculo de low[u]\n",
    "    \n",
    "    for v in listaAdj[u]:\n",
    "        if(d[v] == -1): # Vertice ainda branco\n",
    "            pai[v] = u\n",
    "            \n",
    "            if(u == root):\n",
    "                n_filhos_root = n_filhos_root + 1\n",
    "                \n",
    "            pontesArticulacoes(listaAdj, v, lista_pontes, articulacoes)\n",
    "            \n",
    "            # Determinando um vertice de articulacao\n",
    "            if(low[v] >= d[u]):\n",
    "                articulacoes[u] = True\n",
    "            \n",
    "            '''\n",
    "            Em alguma chama recursiva, podemos reduzir o \n",
    "            indice do vertice que abraca uma aresta incidente \n",
    "            a u\n",
    "            ''' \n",
    "            if(low[v] < minimo):\n",
    "                minimo = low[v]\n",
    "        \n",
    "        # Atualizando minimo por meio de uma aresta de retorno\n",
    "        elif(d[v] < minimo and v != pai[u]):\n",
    "            minimo = d[v]\n",
    "    \n",
    "    # Atualizacao de low[u] atraves de sua definicao, descrita acima\n",
    "    low[u] = minimo"
   ]
  },
  {
   "cell_type": "markdown",
   "metadata": {},
   "source": [
    "Executando e imprimindo as pontes do grafo."
   ]
  },
  {
   "cell_type": "code",
   "execution_count": 22,
   "metadata": {},
   "outputs": [
    {
     "name": "stdout",
     "output_type": "stream",
     "text": [
      "[0, 0, 1, 2, 2, 4, 4, 6]\n"
     ]
    },
    {
     "data": {
      "image/png": "[encoded data removed]",
      "text/plain": [
       "<Figure size 432x288 with 1 Axes>"
      ]
     },
     "metadata": {},
     "output_type": "display_data"
    }
   ],
   "source": [
    "listaPontes, articulacoes = obtemPontesArticulacoes(listaAdj)\n",
    "print(pai)\n",
    "cores_vertices = []\n",
    "        \n",
    "for i in range(n):\n",
    "    if(articulacoes[i]):\n",
    "        cores_vertices.append(\"red\")\n",
    "    else:\n",
    "        cores_vertices.append(\"green\")\n",
    "        \n",
    "cores_arestas = []\n",
    "for e in E:\n",
    "    if(e in listaPontes):\n",
    "        cores_arestas.append(\"red\")\n",
    "    else:\n",
    "        cores_arestas.append(\"black\")\n",
    "\n",
    "# Desenho de G com as pontes e vertices de articulacao destacados\n",
    "nx.draw(G, node_color=cores_vertices, edge_color=cores_arestas, with_labels=True, font_weight='bold')\n",
    "plt.show()"
   ]
  },
  {
   "cell_type": "markdown",
   "metadata": {},
   "source": [
    "## Referências\n",
    "\n",
    "* Cormen, T. H., Leiserson, C. E., Rivest, R. L., & Stein, C. (2009). Introduction to algorithms. Chapter 22. MIT press."
   ]
  },
  {
   "cell_type": "code",
   "execution_count": null,
   "metadata": {},
   "outputs": [],
   "source": []
  }
 ],
 "metadata": {
  "kernelspec": {
   "display_name": "Python 3",
   "language": "python",
   "name": "python3"
  },
  "language_info": {
   "codemirror_mode": {
    "name": "ipython",
    "version": 3
   },
   "file_extension": ".py",
   "mimetype": "text/x-python",
   "name": "python",
   "nbconvert_exporter": "python",
   "pygments_lexer": "ipython3",
   "version": "3.8.2"
  }
 },
 "nbformat": 4,
 "nbformat_minor": 2
}
