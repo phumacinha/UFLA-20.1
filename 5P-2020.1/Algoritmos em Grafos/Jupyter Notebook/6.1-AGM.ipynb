{
 "cells": [
  {
   "cell_type": "markdown",
   "metadata": {},
   "source": [
    "# Problema da Árvore Geradora Mínima\n",
    "## Algoritmo de Kruskall e Algoritmo de Prim\n",
    "*Universidade Federal de Lavras  \n",
    "Departamento de Ciência da Computação  \n",
    "GCC218 - Algoritmos em Grafos  \n",
    "Professor: Mayron Moreira*\n",
    "\n",
    "*Material baseado em \"Cormen, Thomas H and Leiserson, Charles E and Rivest, Ronald L and Stein, Clifford (2009). Introduction to algorithms, 3ed., MIT press\"*"
   ]
  },
  {
   "cell_type": "markdown",
   "metadata": {},
   "source": [
    "## Algoritmo de Kruskall"
   ]
  },
  {
   "cell_type": "markdown",
   "metadata": {},
   "source": [
    "### Grafo de teste"
   ]
  },
  {
   "cell_type": "code",
   "execution_count": 15,
   "metadata": {},
   "outputs": [
    {
     "data": {
      "image/png": "[encoded data removed]",
      "text/plain": [
       "<Figure size 432x288 with 1 Axes>"
      ]
     },
     "metadata": {},
     "output_type": "display_data"
    }
   ],
   "source": [
    "import networkx as nx\n",
    "import matplotlib.pyplot as plt\n",
    "\n",
    "G = nx.Graph()\n",
    "n = 9 # Número de vértices do grafo exemplo\n",
    "\n",
    "# Adicionando os vértices em G\n",
    "for i in range(n):\n",
    "    G.add_node(i)\n",
    "\n",
    "# Acrescentando suas arestas\n",
    "G.add_edge(0, 1, weight=4)\n",
    "G.add_edge(0, 7, weight=8)\n",
    "G.add_edge(1, 2, weight=8)\n",
    "G.add_edge(1, 7, weight=11)\n",
    "G.add_edge(2, 3, weight=7)\n",
    "G.add_edge(2, 5, weight=4)\n",
    "G.add_edge(2, 8, weight=2)\n",
    "G.add_edge(3, 4, weight=9)\n",
    "G.add_edge(3, 5, weight=14)\n",
    "G.add_edge(4, 5, weight=10)\n",
    "G.add_edge(5, 6, weight=2)\n",
    "G.add_edge(6, 7, weight=1)\n",
    "G.add_edge(6, 8, weight=6)\n",
    "G.add_edge(7, 8, weight=7)\n",
    "\n",
    "pos = nx.planar_layout(G) # pos = nx.nx_agraph.graphviz_layout(G)\n",
    "nx.draw_networkx(G,pos)\n",
    "labels = nx.get_edge_attributes(G,'weight')\n",
    "nx.draw_networkx_edge_labels(G,pos,edge_labels=labels)\n",
    "plt.show()"
   ]
  },
  {
   "cell_type": "markdown",
   "metadata": {},
   "source": [
    "#### Inputs"
   ]
  },
  {
   "cell_type": "code",
   "execution_count": 16,
   "metadata": {},
   "outputs": [],
   "source": [
    "# Pesos das arestas do grafo\n",
    "w = nx.get_edge_attributes(G,'weight')\n",
    "\n",
    "# Vertices do grafo\n",
    "V = nx.nodes(G)"
   ]
  },
  {
   "cell_type": "markdown",
   "metadata": {},
   "source": [
    "### Implementação"
   ]
  },
  {
   "cell_type": "markdown",
   "metadata": {},
   "source": [
    "Adaptação da estrutura *disjoint-set-forest*, presente na Seção 21.3 de *Cormen, Thomas H and Leiserson, Charles E and Rivest, Ronald L and Stein, Clifford (2009). Introduction to algorithms, 3ed., MIT press.*, utilizando as estratégias *union-by-rank* e heurísticas *path-compression*.\n",
    "\n",
    "Cada vértice possui os seguintes atributos:  \n",
    "* $v$: identificador do vértice;\n",
    "* $p$: identificador pai do vertice na \"disjoint-set-forest\";   \n",
    "* $rank$: limite superior da altura do vértice, considerando o numero de arestas do maior caminho simples entre o  vertice em questao e um descendente folha."
   ]
  },
  {
   "cell_type": "code",
   "execution_count": 17,
   "metadata": {},
   "outputs": [],
   "source": [
    "'''\n",
    "Recebe dois conjuntos (subarvores) e \n",
    "efetua a uniao entre as duas estruturas\n",
    "'''\n",
    "def uniao(x, y, conjuntos):\n",
    "    ligar(x, y, conjuntos)\n",
    "    \n",
    "'''\n",
    "Concatena as duas subarvores,\n",
    "atualizando seus pais e seu rank\n",
    "    conjuntos[v][0]: pai do vertice v\n",
    "    conjuntos[v][1]: rank do vertice v\n",
    "'''    \n",
    "def ligar(x, y, conjuntos):\n",
    "    # Se a subarvore x eh maior que a subarvore y, x passa a ser pai de y\n",
    "    if(conjuntos[x][1] > conjuntos[y][1]):\n",
    "        conjuntos[y][0] = x\n",
    "    else: # Caso contrario, y passa a ser o pai de x\n",
    "        conjuntos[x][0] = y\n",
    "        if(conjuntos[x][1] == conjuntos[y][1]):\n",
    "            conjuntos[y][1] = conjuntos[y][1] + 1\n",
    "            \n",
    "def encontra_conjunto(conjuntos, x):\n",
    "    noh = x\n",
    "    pai = conjuntos[noh][0]\n",
    "    # Iterativamente, busca a raiz da subarvore (quando o id e o pai sao iguais)\n",
    "    while(noh != pai):\n",
    "        noh = pai\n",
    "        pai = conjuntos[noh][0]\n",
    "    conjuntos[x][0] = pai\n",
    "    return pai\n",
    "\n",
    "class Vertice:\n",
    "    # Construtor default\n",
    "    def __init__(self, identificador):\n",
    "        self.__constroi_conjunto(identificador)\n",
    "        \n",
    "    '''\n",
    "    Inicializacao do vertice com seu identificador,\n",
    "    com o seu pai (que inicialmente eh um ponteiro\n",
    "    para o proprio vertice) e seu rank (zero)\n",
    "    '''\n",
    "    def __constroi_conjunto(self, identificador):\n",
    "        self.v = identificador\n",
    "        self.p = identificador\n",
    "        self.rank = 0"
   ]
  },
  {
   "cell_type": "markdown",
   "metadata": {},
   "source": [
    "O Algoritmo de Kruskall ordenada (de forma ascendente) todas as arestas do grafo $G$ e insere-as, uma a uma, evitando a ocorrência de subciclos. Para evitar a inserção de arestas que causam subciclos, verificamos se o par de vértices $u$ e $v$ não pertencem à mesma componente conexa. O algoritmo se baseia no seguinte resultado teórico.\n",
    "\n",
    "- *Seja $C=(V_C, E_C)$ uma componente conexa (árvore) na floresta $G_A = (V,A)$. Se $(u,v)$ é uma aresta leve que conecta $C$ a alguma outra componente em $G_A$, então $(u,v)$ é segura para $A$.*"
   ]
  },
  {
   "cell_type": "code",
   "execution_count": 18,
   "metadata": {},
   "outputs": [],
   "source": [
    "'''\n",
    "Output: Conjunto de arestas resultantes do Algoritmo de Kruskall.\n",
    "Armazenaremos em forma de tripla: (u,v,w(u,v)), em que \n",
    "u e v são vértices, e w(u,v) é o peso de (u,v) no grafo\n",
    "testado\n",
    "'''\n",
    "def Kruskall(V, w):\n",
    "    T = [] # Inicializando o conjunto output: nossa AGM.\n",
    "    \n",
    "    # Numero de vertices\n",
    "    n = len(V)\n",
    "    \n",
    "    conjuntos = {v: [v, 0] for v in V}\n",
    "\n",
    "    '''\n",
    "    Dicionario de arestas ordenadas por peso.\n",
    "    Complexidade O(mlogm), em que m eh o numero de arestas\n",
    "    '''\n",
    "    w_ord = sorted(w.items(), key=lambda x: x[1])\n",
    "\n",
    "    # Numero de arestas adicionadas\n",
    "    n_arestas = 0\n",
    "    \n",
    "    '''\n",
    "    Para cada aresta (ja ordenada, pelo peso).\n",
    "    Complexidade: no pior caso, o loop executa\n",
    "    O(m)\n",
    "    '''\n",
    "    for ((u,v), val) in w_ord:\n",
    "        conju = encontra_conjunto(conjuntos, u)\n",
    "        conjv = encontra_conjunto(conjuntos, v)\n",
    "        if(conju != conjv):\n",
    "            T.append((u, v, w[(u,v)]))\n",
    "            n_arestas = n_arestas + 1\n",
    "            \n",
    "            # So funciona se o grafo for conexo!\n",
    "            if(n_arestas == n-1):\n",
    "                break\n",
    "            uniao(conju, conjv, conjuntos)\n",
    "            \n",
    "    return T\n",
    "\n",
    "AGM = Kruskall(V, w)"
   ]
  },
  {
   "cell_type": "markdown",
   "metadata": {},
   "source": [
    "#### Impressão da AGM"
   ]
  },
  {
   "cell_type": "code",
   "execution_count": 19,
   "metadata": {},
   "outputs": [
    {
     "data": {
      "image/png": "[encoded data removed]",
      "text/plain": [
       "<Figure size 432x288 with 1 Axes>"
      ]
     },
     "metadata": {},
     "output_type": "display_data"
    }
   ],
   "source": [
    "tree = nx.Graph()\n",
    "\n",
    "# Adicionando os vértices em G\n",
    "for i in range(n):\n",
    "    tree.add_node(i)\n",
    "\n",
    "# Acrescentando suas arestas\n",
    "for e in AGM:\n",
    "    tree.add_edge(e[0], e[1], weight=e[2])\n",
    "\n",
    "pos = nx.planar_layout(tree) # pos = nx.nx_agraph.graphviz_layout(G)\n",
    "nx.draw_networkx(tree,pos)\n",
    "labels = nx.get_edge_attributes(tree,'weight')\n",
    "nx.draw_networkx_edge_labels(tree,pos,edge_labels=labels)\n",
    "plt.show()"
   ]
  },
  {
   "cell_type": "markdown",
   "metadata": {},
   "source": [
    "Cormen et al. (2009) indica, na Seção 23.2, que o Algoritmo de Kruskall pode chegar à complexidade de $O(mlog\\,n)$."
   ]
  },
  {
   "cell_type": "markdown",
   "metadata": {},
   "source": [
    "## Algoritmo de Prim"
   ]
  },
  {
   "cell_type": "markdown",
   "metadata": {},
   "source": [
    "#### Inputs (adicional)"
   ]
  },
  {
   "cell_type": "code",
   "execution_count": 20,
   "metadata": {},
   "outputs": [],
   "source": [
    "# Raiz (vertice inicial do algoritmo). Você pode começar por qualquer vértice.\n",
    "r = 0\n",
    "\n",
    "# Vertices do grafo\n",
    "E = nx.edges(G)"
   ]
  },
  {
   "cell_type": "markdown",
   "metadata": {},
   "source": [
    "#### Estruturas adicionais"
   ]
  },
  {
   "cell_type": "code",
   "execution_count": 21,
   "metadata": {},
   "outputs": [],
   "source": [
    "INFINITO = 1000000\n",
    "\n",
    "# Chave de cada vértice\n",
    "chave = [INFINITO for v in V]\n",
    "\n",
    "# Pai de cada vertice do grafo\n",
    "pai = [-1 for v in V]\n",
    "\n",
    "# visitado[v] eh true se o vertice v ja esta na AGM\n",
    "adicionado_agm = [False for v in V]\n",
    "\n",
    "# Lista de adjacencia do grafo\n",
    "lista_adj = [[] for v in range(n)]\n",
    "for e in E:\n",
    "    lista_adj[e[0]].append(e[1])\n",
    "    lista_adj[e[1]].append(e[0])\n",
    "\n",
    "# Acrescentando o par nao-ordenado (v,u) em w\n",
    "for e in E:\n",
    "    w[(e[1], e[0])] = w[(e[0], e[1])]"
   ]
  },
  {
   "cell_type": "markdown",
   "metadata": {},
   "source": [
    "### Implementação\n",
    "\n",
    "Ao contrário do Algoritmo de Kruskall, o Algoritmo de Prim expande a subárvore parcial a partir de arestas leves. Assim, a solução parcial se mantém, a todo momento, conexa. O algoritmo se baseia no seguinte resultado teórico.\n",
    "\n",
    "- *Seja $G=(V,E)$ um grafo valorado não orientado. Considere $A$ um subconjunto de $E$ que está incluído em alguma AGM para $G$, $(S,V-S)$ qualquer corte de $G$ que respeita $A$ e $(u,v) \\in E$ uma aresta leve que cruza $(S,V-S)$. Então, a aresta $(u,v)$ é segura para $A$.*"
   ]
  },
  {
   "cell_type": "code",
   "execution_count": 22,
   "metadata": {},
   "outputs": [],
   "source": [
    "def obtemMin(chave, adicionado_agm, n):\n",
    "    minimo = INFINITO\n",
    "    u = 0 # Vertice nao visitado com o menor valor de chave\n",
    "    for v in range(n):\n",
    "        if(minimo > chave[v] and (not adicionado_agm[v])):\n",
    "            minimo = chave[v]\n",
    "            u = v\n",
    "            \n",
    "    return u\n",
    "\n",
    "'''\n",
    "Output: Conjunto de arestas resultantes do Algoritmo de Kruskall.\n",
    "Armazenaremos em forma de tripla: (u,v,w(u,v)), em que \n",
    "u e v são vértices, e w(u,v) é o peso de (u,v) no grafo\n",
    "testado\n",
    "'''\n",
    "def Prim(V, r, w):\n",
    "    T = [] # Inicializando o conjunto output: nossa AGM.\n",
    "    \n",
    "    chave[r] = 0\n",
    "    pai[r] = r\n",
    "    \n",
    "    vtx_nao_explorados = n\n",
    "    while(vtx_nao_explorados != 0):\n",
    "        u = obtemMin(chave, adicionado_agm, n) # Complexidade de O(n). Pode ser melhorado com uma heap-min\n",
    "        vtx_nao_explorados = vtx_nao_explorados - 1\n",
    "        adicionado_agm[u] = True\n",
    "        for v in lista_adj[u]:\n",
    "            if(not adicionado_agm[v] and w[(u,v)] < chave[v]):\n",
    "                    pai[v] = u\n",
    "                    chave[v] = w[(u,v)]         \n",
    "    for v in V:\n",
    "        if(pai[v] != v):\n",
    "            T.append((pai[v], v, w[(pai[v],v)]))\n",
    "    return T\n",
    "\n",
    "AGM = Prim(V, r, w)"
   ]
  },
  {
   "cell_type": "markdown",
   "metadata": {},
   "source": [
    "#### Impressão da AGM"
   ]
  },
  {
   "cell_type": "code",
   "execution_count": 23,
   "metadata": {},
   "outputs": [
    {
     "data": {
      "image/png": "[encoded data removed]",
      "text/plain": [
       "<Figure size 432x288 with 1 Axes>"
      ]
     },
     "metadata": {},
     "output_type": "display_data"
    }
   ],
   "source": [
    "tree = nx.Graph()\n",
    "\n",
    "# Adicionando os vértices em G\n",
    "for i in range(n):\n",
    "    tree.add_node(i)\n",
    "\n",
    "# Acrescentando suas arestas\n",
    "for e in AGM:\n",
    "    tree.add_edge(e[0], e[1], weight=e[2])\n",
    "\n",
    "pos = nx.planar_layout(tree) # pos = nx.nx_agraph.graphviz_layout(G)\n",
    "nx.draw_networkx(tree,pos)\n",
    "labels = nx.get_edge_attributes(tree,'weight')\n",
    "nx.draw_networkx_edge_labels(tree,pos,edge_labels=labels)\n",
    "plt.show()"
   ]
  },
  {
   "cell_type": "markdown",
   "metadata": {},
   "source": [
    "Cormen et al. (2009) indica, ao fim da Seção 23.2, que o Algoritmo de Prim pode chegar à complexidade de $O((m+n)log\\,n)$, caso haja o gerenciamento dos vértices a serem incluídos na AGM seja feito através de uma *heap* binária. Em nossa implementação, temos uma complexidade resultante de $O(n^2)$."
   ]
  },
  {
   "cell_type": "markdown",
   "metadata": {},
   "source": [
    "## Referências\n",
    "\n",
    "* Cormen, T. H., Leiserson, C. E., Rivest, R. L., & Stein, C. (2009). Introduction to algorithms. Chapter 23. MIT press."
   ]
  }
 ],
 "metadata": {
  "kernelspec": {
   "display_name": "Python 3",
   "language": "python",
   "name": "python3"
  },
  "language_info": {
   "codemirror_mode": {
    "name": "ipython",
    "version": 3
   },
   "file_extension": ".py",
   "mimetype": "text/x-python",
   "name": "python",
   "nbconvert_exporter": "python",
   "pygments_lexer": "ipython3",
   "version": "3.8.1"
  }
 },
 "nbformat": 4,
 "nbformat_minor": 2
}
