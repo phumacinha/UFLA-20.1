{
 "cells": [
  {
   "cell_type": "markdown",
   "metadata": {},
   "source": [
    "# Estruturas de Dados em Grafos\n",
    "*Universidade Federal de Lavras  \n",
    "Departamento de Ciência da Computação  \n",
    "GCC218 - Algoritmos em Grafos  \n",
    "Professor: Mayron Moreira*"
   ]
  },
  {
   "cell_type": "markdown",
   "metadata": {},
   "source": [
    "* Considere as seguintes estruturas de dados em grafos:  \n",
    "    * Matriz de Adjacência ($MA$);  \n",
    "    * Lista de Adjacência ($LAdj$);  \n",
    "    * Lista de Arestas ($LAr$);  \n",
    "    * Matriz de Incidência ($MI$).  \n",
    "\n",
    "    Considere a seguinte notação: $A \\rightarrow B$, que indica que uma estrutura $A$ deve ser convertida para a estrutura $B$. Apresente uma implementação em Python para converter uma estrutura $A$ em $B$ ($A \\rightarrow B$), $\\forall A,B \\in \\{MA, LAdj, LAr, MI\\}$, $A \\neq B$. Por simplicidade, considere o grafo a ser convertido seja simples."
   ]
  },
  {
   "cell_type": "markdown",
   "metadata": {},
   "source": [
    "#### Grafo de teste"
   ]
  },
  {
   "cell_type": "code",
   "execution_count": 31,
   "metadata": {},
   "outputs": [
    {
     "data": {
      "image/png": "[encoded data removed]",
      "text/plain": [
       "<Figure size 432x288 with 1 Axes>"
      ]
     },
     "metadata": {},
     "output_type": "display_data"
    }
   ],
   "source": [
    "# Bibliotecas utilizadas para a impressão do grafo\n",
    "import networkx as nx \n",
    "import matplotlib.pyplot as plt\n",
    "\n",
    "# Utilizando o networkx\n",
    "G=nx.Graph() \n",
    "\n",
    "# Arestas a serem adicionadas em G\n",
    "E = [(1,2), (1,3), (1,4), (2,4), (3,4), (4,5)]\n",
    "\n",
    "# Inserindo as arestas em G\n",
    "for e in E:\n",
    "    G.add_edge(e[0], e[1])  \n",
    "    \n",
    "# Modificando o layout\n",
    "pos=nx.circular_layout(G)\n",
    "\n",
    "# Desenhando o grafo\n",
    "nx.draw(G,pos,with_labels=True)\n",
    "plt.show()"
   ]
  },
  {
   "cell_type": "markdown",
   "metadata": {},
   "source": [
    "#### Exemplo:"
   ]
  },
  {
   "cell_type": "code",
   "execution_count": 32,
   "metadata": {},
   "outputs": [
    {
     "name": "stdout",
     "output_type": "stream",
     "text": [
      "MA para LAdj:  [[1, 2, 3], [0, 3], [0, 3], [0, 1, 2, 4], [3]]\n"
     ]
    }
   ],
   "source": [
    "# Numero de vertices de G\n",
    "n = len(G)\n",
    "\n",
    "# Numero de arestas de G\n",
    "m = len(G.edges())\n",
    "\n",
    "# Matriz de adjacencia\n",
    "M = [[0 for v in range(n)] for u in range(n)]\n",
    "\n",
    "# True se o grafo eh direcionado\n",
    "direcionado = (type(G) == nx.DiGraph)\n",
    "\n",
    "# Preenchendo a matriz de adjacencia\n",
    "for e in E:\n",
    "    M[e[0]-1][e[1]-1] = 1\n",
    "    if(not direcionado):\n",
    "        M[e[1]-1][e[0]-1] = 1\n",
    "    \n",
    "'''\n",
    "Vamos considerar representações simplificadas das \n",
    "estruturas de dados.\n",
    "M: matriz de adjacencia\n",
    "n: numer de vertices\n",
    "'''\n",
    "def MA_para_LAdj(M, n):\n",
    "    # Lista de adjacencia\n",
    "    L = [[] for u in range(n)]\n",
    "        \n",
    "    for u in range(n):\n",
    "        v_inic = 0 # Indice que inicia o segundo for\n",
    "        if(not direcionado):\n",
    "            v_inic = u\n",
    "        for v in range(v_inic, n):\n",
    "            if(M[u][v]):\n",
    "                L[u].append(v)\n",
    "                '''\n",
    "                Caso nao seja direcionado, \n",
    "                ja adicionamos u na lista de v\n",
    "                '''\n",
    "                if(not direcionado):\n",
    "                    L[v].append(u)\n",
    "    \n",
    "    return L\n",
    "\n",
    "print(\"MA para LAdj: \", MA_para_LAdj(M,n))"
   ]
  },
  {
   "cell_type": "markdown",
   "metadata": {},
   "source": [
    "* Considere um grafo $G=(V,E)$ que pode ser orientado ou não-orientado. Supomos que $G$ não possua *loops* ou arestas (arcos) múltiplos. $G$ pode ser representado pela estrutura $A$, em que $\\forall A \\in \\{MA, LAdj, LAr, MI\\}$. Assim, dada uma representação de $G$ por $A$, faça as seguintes funções:  \n",
    "    * $F1$ - retorna o número de vértices ($|V|$) e arestas ou arcos ($E$) de $G$;   \n",
    "    * $F2$ - retorne os graus de entrada e de saída de um dado vértice $v$, parâmetro da função;  \n",
    "    * $F3$ - retorne a mesma estrutura de dados $A$, só que com o grafo $G$ reverso (com a direção de seus arcos invertida);   \n",
    "    * $F4$ - verifique se o grafo $G$ é um $K_n$ (caso $G$ seja não-orientado);  \n",
    "    * $F5$ - verifique se $G$ é um grafo estrela $S_k$. Um grafo estrela é um grafo bipartido completo do formato $K_{1,k}$."
   ]
  },
  {
   "cell_type": "markdown",
   "metadata": {},
   "source": [
    "#### Cabeçalho das funções"
   ]
  },
  {
   "cell_type": "code",
   "execution_count": 1,
   "metadata": {},
   "outputs": [],
   "source": [
    "# A: estrutura de dados que representa um grafo\n",
    "def F1(A):\n",
    "    n = m = 0 # Numero de vertices e arestas\n",
    "    print(\"TO DO\")\n",
    "    # return (n,m) # Retorna o numero de vertices e arestas\n",
    "    \n",
    "# A: estrutura de dados que representa um grafo (direcionado)\n",
    "def F2(A):\n",
    "    print(\"TO DO\")\n",
    "    \n",
    "# A: estrutura de dados que representa um grafo (direcionado)\n",
    "def F3(A):\n",
    "    print(\"TO DO\")\n",
    "    \n",
    "# A: estrutura de dados que representa um grafo\n",
    "def F4(A):\n",
    "    print(\"TO DO\")\n",
    "    \n",
    "# A: estrutura de dados que representa um grafo (direcionado)\n",
    "def F5(A):\n",
    "    print(\"TO DO\")"
   ]
  },
  {
   "cell_type": "markdown",
   "metadata": {},
   "source": [
    "* Seja $G=(V,E)$ um grafo não-orientado simples, em que $V \\neq \\varnothing$ é um conjunto de vértices, e $E$ é o conjunto de pares não ordenados $(u,v)$, em que $u,v \\in V$, $u \\neq v$. Uma matriz de incidência $M$ é definida, aqui, com as dimensões $|V| \\times |E|$, em que $M[i][j]$ é $0$ se a aresta $j$ não é incidente ao vértice $i$. Dada uma matriz $M$ de dimensões $|V| \\times |E|$, como podemos determinar se ela pode ser a matriz de incidência de um grafo simples $G=(V,E)$? Para resolver esse problema, siga as instruções abaixo.\n",
    "    * **Entrada:** a entrada será feita através de um arquivo \".txt\". A primeira linha corresponde do número de vértices ($1 \\le |V| \\le 8$) e ao número de arestas ($0 \\le |E| \\le |V|(|V|-1)/2$). As $|V|$ linhas restantes contém $|E|$ colunas, que correspondem à matriz $M$ descrita anteriormente.  \n",
    "    * **Saída:** imprima a mensagem \"Sim\" se a matriz de incidência apresentada pode ser uma matriz de incidência de algum grafo simples não-direcionado. Caso contrário, imprima \"Não\".  \n",
    "    * **Exemplos**: \n",
    "        * Estruturas_Dados_G1.txt: Sim.  \n",
    "        * Estruturas_Dados_G2.txt: Sim.  \n",
    "        * Estruturas_Dados_G3.txt: Não.  \n",
    "        * Estruturas_Dados_G4.txt: Não.  \n",
    "        * Estruturas_Dados_G5.txt: Não.  "
   ]
  },
  {
   "cell_type": "code",
   "execution_count": null,
   "metadata": {},
   "outputs": [],
   "source": []
  }
 ],
 "metadata": {
  "kernelspec": {
   "display_name": "Python 3",
   "language": "python",
   "name": "python3"
  },
  "language_info": {
   "codemirror_mode": {
    "name": "ipython",
    "version": 3
   },
   "file_extension": ".py",
   "mimetype": "text/x-python",
   "name": "python",
   "nbconvert_exporter": "python",
   "pygments_lexer": "ipython3",
   "version": "3.7.3"
  }
 },
 "nbformat": 4,
 "nbformat_minor": 4
}
