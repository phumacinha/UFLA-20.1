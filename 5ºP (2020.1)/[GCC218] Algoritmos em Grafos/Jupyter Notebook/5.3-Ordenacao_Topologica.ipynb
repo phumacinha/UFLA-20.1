{
 "cells": [
  {
   "cell_type": "markdown",
   "metadata": {},
   "source": [
    "# **Problema da Dependência de Pacotes**\n",
    "*Universidade Federal de Lavras  \n",
    "Departamento de Ciência da Computação  \n",
    "GCC218 - Algoritmos em Grafos  \n",
    "Professor: Mayron Moreira*"
   ]
  },
  {
   "cell_type": "markdown",
   "metadata": {},
   "source": [
    "**(Esta questão foi adaptada de um problema utilizado em uma entrevista de emprego para Engenheiro de Software da Amazon/Seattle).** Considere o seguinte problema: dada a dependência de compilação de alguns pacotes Java, determine a ordem em que eles devem ser compilados de modo a satisfazer essas restrições. Para tanto, implemente uma adaptação no algoritmo DFS que resolva esse problema.  \n",
    "\n",
    "* **Entradas:** A entrada começará com dois inteiros representando o número de pacotes ($P$) e o número de dependências ($D$). A seguir, há $D$ linhas cada uma contendo um par de inteiros $(a,b)$, indicando que o pacote $b$ ($1 \\le b \\le P$) depende do pacote a ($1 \\le a \\le P$) para poder ser compilado.  \n",
    "\n",
    "* **Saídas:** a ordem a qual os pacotes devem ser compilados. Priorize a ordem lexicográfica dos pacotes na exploração do algoritmo. Caso sua entrada tenha pacotes com dependência circular, seu programa deve imprimir a mensagem: solucao inviavel."
   ]
  },
  {
   "cell_type": "markdown",
   "metadata": {},
   "source": [
    "* **Exemplo de Entrada (a explicação entre parênteses não faz parte da entrada):**  \n",
    "    4 3 (há 4 pacotes que precisam ser compilados e 3 restrições sobre a ordem de compilacao)  \n",
    "    1 2 (o pacote 1 só pode ser compilado após a 2 ter sido compilado)  \n",
    "    1 3 (o pacote 1 só pode ser compilado após a 3 ter sido compilado)  \n",
    "    2 3 (o pacote 2 só pode ser compilado após a 3 ter sido compilado)  \n",
    "\n",
    "* **Exemplo de Saída:**  \n",
    "    4 3 2 1"
   ]
  },
  {
   "cell_type": "markdown",
   "metadata": {},
   "source": [
    "## Conceito a ser explorado\n",
    "\n",
    "A questão explora a ideia de se obter um grafo **topologicamente ordenado**, através do algoritmo DFS. O conceito de ordenação topológica se aplica a grafos direcionados e acíclicos. Quando estudarmos algoritmos de caminho mínimo, aplicados a grafos dessa natureza, a ordenação topológica será fundamental para obter o menor caminho de um vértice origem do grafo aos demais, de maneira eficiente.  \n",
    "\n",
    "Basicamente, se um grafo $G=(V,E)$ é topologicamente ordenado, temos que $\\forall v \\in N(u)$, $u < v$. Nessa questão, obtemos a resposta ordenando o grafo topologicamente, utilizando uma pilha como auxiliar. Assim:  \n",
    "* aplicamos DFS e a medida que fechamos um vértice, o adicionamos na pilha;  \n",
    "* ao final, o grafo topologicamente ordenado é obtido desimpilhando a pilha e alocando os vértices desempilhados em sua ordem de retirada.  \n",
    "\n",
    "Uma outra vantagem de se trabalhar com um grafo topologicamente ordenado é: tome uma matriz de adjacência de um grafo de 100 vértices. Se considerarmos o vértice 90, sabemos que seus vizinhos podem ser o 91, ou o 92, ..., ou o 99. Não necessitamos de buscar nas colunas $v < 90$, ecnomizando tempo computacional.  "
   ]
  },
  {
   "cell_type": "code",
   "execution_count": 9,
   "metadata": {},
   "outputs": [],
   "source": [
    "# Nosso infinito\n",
    "INFINITO = 100000\n",
    "\n",
    "# Numero de vertices\n",
    "n = 0\n",
    "\n",
    "'''\n",
    "As cores identificarao de o vertice foi ou nao visitado.\n",
    "Notacao:\n",
    "B - vertice ainda nao descoberto (Branco)\n",
    "C - vertice descoberto\n",
    "P - vertice que ja fora visitado (Preto)\n",
    "''' \n",
    "\n",
    "cor = []\n",
    "\n",
    "# Pai de cada vertice na DFS\n",
    "pai = []\n",
    "\n",
    "\n",
    "# Pilha com vertices ordenados topologicamente\n",
    "ordenacao_top = []\n",
    "\n",
    "'''\n",
    "Parametros:\n",
    "grafo - corresponde a uma estrutura de dados em grafo\n",
    "s - vertice de origem\n",
    "'''\n",
    "def DFS_VISIT(grafo, s):\n",
    "    # Inicializando o vertice origem\n",
    "    cor[s] = 'C'\n",
    "    \n",
    "    vizinhos = obtemVizinhos(grafo, s)\n",
    "    \n",
    "    for v in vizinhos:\n",
    "        if(cor[v] == 'B'):\n",
    "            cor[v] = 'C'\n",
    "            pai[v] = s\n",
    "            DFS_VISIT(grafo, v)\n",
    "                        \n",
    "    cor[s] = 'P'\n",
    "    ordenacao_top.append(s)\n",
    "    \n",
    "\n",
    "def DFS(grafo):\n",
    "    for u in range(n):\n",
    "        if(cor[u] == 'B'):\n",
    "            DFS_VISIT(grafo, u)\n",
    "            \n",
    "# Considerando grafo como uma lista de adjacencia\n",
    "def obtemVizinhos(grafo, u):\n",
    "    return grafo[u]"
   ]
  },
  {
   "cell_type": "markdown",
   "metadata": {},
   "source": [
    "### Testando (inserindo diretamente no código)"
   ]
  },
  {
   "cell_type": "code",
   "execution_count": 10,
   "metadata": {},
   "outputs": [
    {
     "name": "stdout",
     "output_type": "stream",
     "text": [
      "4  3  2  1  "
     ]
    }
   ],
   "source": [
    "n = 4 # Numero de vertices\n",
    "m = 4 # Numero de arestas\n",
    "\n",
    "cor = ['B' for i in range(n)]\n",
    "\n",
    "# Pai de cada vertice na DFS\n",
    "pai = [-1 for i in range(n)]\n",
    "\n",
    "# Grafo representado por uma lista de adjacencia\n",
    "LAdj = [[] for i in range(n)]\n",
    "\n",
    "# Inserindo pacotes com um indice a menos (por conveniencia)\n",
    "LAdj[1].append(0)\n",
    "LAdj[2].append(0)\n",
    "LAdj[2].append(1)\n",
    "\n",
    "DFS(LAdj)\n",
    "\n",
    "for u in range(n-1,-1,-1):\n",
    "    print(ordenacao_top[u] + 1, \" \", end='')"
   ]
  },
  {
   "cell_type": "markdown",
   "metadata": {},
   "source": [
    "Assim como na DFS, o algoritmo acima executa em $O(n+m)$"
   ]
  },
  {
   "cell_type": "markdown",
   "metadata": {},
   "source": [
    "## Contato\n",
    "\n",
    "Para dúvidas e sugestões, entrem em contato comigo em algum desses canais:  \n",
    "* mayron.moreira@ufla.br  \n",
    "* http://professores.dcc.ufla.br/~mayron/"
   ]
  }
 ],
 "metadata": {
  "kernelspec": {
   "display_name": "Python 3",
   "language": "python",
   "name": "python3"
  },
  "language_info": {
   "codemirror_mode": {
    "name": "ipython",
    "version": 3
   },
   "file_extension": ".py",
   "mimetype": "text/x-python",
   "name": "python",
   "nbconvert_exporter": "python",
   "pygments_lexer": "ipython3",
   "version": "3.8.2"
  }
 },
 "nbformat": 4,
 "nbformat_minor": 2
}
