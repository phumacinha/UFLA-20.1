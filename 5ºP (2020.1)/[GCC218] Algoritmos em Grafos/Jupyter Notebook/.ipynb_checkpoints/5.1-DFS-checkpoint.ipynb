{
 "cells": [
  {
   "cell_type": "markdown",
   "metadata": {},
   "source": [
    "# Percursos em Grafos\n",
    "## Busca em Profundidade (DFS, do inglês *Depth First Search*)\n",
    "*Universidade Federal de Lavras  \n",
    "Departamento de Ciência da Computação  \n",
    "GCC218 - Algoritmos em Grafos  \n",
    "Professor: Mayron Moreira*"
   ]
  },
  {
   "cell_type": "markdown",
   "metadata": {},
   "source": [
    "## DFS\n",
    "\n",
    "Considere um grafo $G=(V,E)$ não-ponderado qualquer e a seguinte tarefa: determinar se o grafo possui um ciclo ou não.\n",
    "\n",
    "### Definição do problema\n",
    "\n",
    "* **Problema da Existência de um Ciclo**\n",
    "    * **Instância**: um grafo não ponderado qualquer.  \n",
    "    * **Saída**: **True**, se o grafo possui ao menos um ciclo; **False**, caso contrário.\n",
    "    \n",
    "Esse problema pode ser resolvido através do Algoritmo de Busca em Profundidade, comumente referenciado por DFS (devido as suas iniciais em inglês). A DFS explora o nível mais profundo de uma ramificação do grafo, até que não seja possível mais avançar nessa direção. Quando isso ocorre, o algoritmo volta em um processo de *backtracking* e explora outra possibilidade, proveniente de um ramo distinto. Para tanto, o algoritmo utilizada a estrutura de dados **pilha**. Vejamos um exemplo de implementação da DFS."
   ]
  },
  {
   "cell_type": "markdown",
   "metadata": {},
   "source": [
    "### Grafo de teste"
   ]
  },
  {
   "cell_type": "code",
   "execution_count": 1,
   "metadata": {},
   "outputs": [
    {
     "data": {
      "image/png": "[encoded data removed]",
      "text/plain": [
       "<Figure size 432x288 with 1 Axes>"
      ]
     },
     "metadata": {},
     "output_type": "display_data"
    }
   ],
   "source": [
    "import networkx as nx\n",
    "import matplotlib.pyplot as plt\n",
    "\n",
    "G = nx.DiGraph()\n",
    "n = 6 # Número de vértices do grafo exemplo\n",
    "\n",
    "# Adicionando os vértices em G\n",
    "for i in range(n):\n",
    "    G.add_node(i)\n",
    "\n",
    "# Acrescentando suas arestas\n",
    "G.add_edge(0, 1)\n",
    "G.add_edge(0, 3)\n",
    "G.add_edge(1, 2)\n",
    "G.add_edge(2, 3)\n",
    "G.add_edge(3, 1)\n",
    "G.add_edge(4, 2)\n",
    "G.add_edge(4, 5)\n",
    "\n",
    "# Desenho de G\n",
    "pos=nx.circular_layout(G)\n",
    "nx.draw(G, pos=pos, with_labels=True, font_weight='bold')\n",
    "plt.show()"
   ]
  },
  {
   "cell_type": "markdown",
   "metadata": {},
   "source": [
    "### Algoritmo"
   ]
  },
  {
   "cell_type": "code",
   "execution_count": 2,
   "metadata": {},
   "outputs": [],
   "source": [
    "# Nosso infinito\n",
    "INFINITO = 100000\n",
    "\n",
    "'''\n",
    "As cores identificarao de o vertice foi ou nao visitado.\n",
    "Notacao:\n",
    "B - vertice ainda nao descoberto (Branco)\n",
    "C - vertice descoberto\n",
    "P - vertice que ja fora visitado (Preto)\n",
    "''' \n",
    "cor = ['B' for i in range(n)]\n",
    "\n",
    "# Pai de cada vertice na DFS\n",
    "pai = [-1 for i in range(n)]\n",
    "\n",
    "# Tempo de descoberta do vertice na DFS\n",
    "desc = [INFINITO for i in range(n)]\n",
    "\n",
    "# Tempo de fechamento do vertice na DFS\n",
    "fech = [INFINITO for i in range(n)]\n",
    "\n",
    "# Tempo atual\n",
    "t_atual = 0\n",
    "\n",
    "'''\n",
    "Parametros:\n",
    "grafo - corresponde a uma estrutura de dados em grafo\n",
    "s - vertice de origem\n",
    "'''\n",
    "def DFS_VISIT(grafo, s):\n",
    "    global t_atual\n",
    "    # Inicializando o vertice origem\n",
    "    desc[s] = t_atual\n",
    "    cor[s] = 'C'\n",
    "    t_atual = t_atual + 1\n",
    "    \n",
    "    vizinhos = obtemVizinhos(grafo, s)\n",
    "    \n",
    "    for v in vizinhos:\n",
    "        if(cor[v] == 'B'):\n",
    "            print(\"(\", s, \",\", v, \") eh aresta de arvore\")\n",
    "            cor[v] = 'C'\n",
    "            pai[v] = s\n",
    "            DFS_VISIT(grafo, v)\n",
    "                        \n",
    "    cor[s] = 'P'\n",
    "    t_atual = t_atual + 1\n",
    "    fech[s] = t_atual\n",
    "\n",
    "def DFS(grafo):\n",
    "    for u in range(n):\n",
    "        if(cor[u] == 'B'):\n",
    "            DFS_VISIT(grafo, u)\n",
    "            \n",
    "# Considerando grafo como uma lista de adjacencia\n",
    "def obtemVizinhos(grafo, u):\n",
    "    return grafo[u]"
   ]
  },
  {
   "cell_type": "markdown",
   "metadata": {},
   "source": [
    "Tomando uma matriz de adjacência para representar $G=(V,E)$, com $|V|=n$ e $|E|=m$, vemos que a implementação acima gasta $O(n) + O(m) = O(n+m)$, em que $O(n)$ corresponde à inicialização das estruturas auxiliares do algoritmo (*\"cor\", \"desc\", \"fec\" e \"pai\"*), e $O(m)$ vem do pior caso de termos um grafo não-orientado e conexo, pois:  \n",
    "\n",
    "* note que um vértice branco só muda de cor para cinza e preto exatamente uma vez (se for alcançável, claro).   \n",
    "* Logo, teremos o total de arestas visitadas igual a $\\sum_{v \\in V} d(v)$, em que $d(v)$ é o grau de cada vértice.   \n",
    "* Pelo Teorema do Aperto de Mãos, $\\sum_{v \\in V} d(v) = 2m \\in O(m)$.  "
   ]
  },
  {
   "cell_type": "markdown",
   "metadata": {},
   "source": [
    "#### Testando"
   ]
  },
  {
   "cell_type": "code",
   "execution_count": 3,
   "metadata": {},
   "outputs": [
    {
     "name": "stdout",
     "output_type": "stream",
     "text": [
      "( 0 , 1 ) eh aresta de arvore\n",
      "( 1 , 2 ) eh aresta de arvore\n",
      "( 2 , 3 ) eh aresta de arvore\n",
      "( 4 , 5 ) eh aresta de arvore\n"
     ]
    }
   ],
   "source": [
    "# Arestas de G\n",
    "E = G.edges()\n",
    "\n",
    "# Lista de adjacencia de G\n",
    "listaAdj = [[] for i in range(n)]\n",
    "for e in E:\n",
    "    listaAdj[e[0]].append(e[1])\n",
    "    \n",
    "DFS(listaAdj)"
   ]
  },
  {
   "cell_type": "markdown",
   "metadata": {},
   "source": [
    "Imprimindo a árvore (ou floresta, se for o caso) em profundidade:"
   ]
  },
  {
   "cell_type": "code",
   "execution_count": 4,
   "metadata": {},
   "outputs": [
    {
     "name": "stdout",
     "output_type": "stream",
     "text": [
      "1   0\n",
      "2   1\n",
      "3   2\n",
      "5   4\n"
     ]
    },
    {
     "data": {
      "image/png": "[encoded data removed]",
      "text/plain": [
       "<Figure size 432x288 with 1 Axes>"
      ]
     },
     "metadata": {},
     "output_type": "display_data"
    }
   ],
   "source": [
    "# Resposta da DFS\n",
    "G1 = nx.DiGraph()\n",
    "for i in range(n):\n",
    "    G1.add_node(i)\n",
    "\n",
    "# Acrescentando a arvore em largura\n",
    "for i in range(n):\n",
    "    if(pai[i] != -1):\n",
    "        print(i, \" \", pai[i])\n",
    "        G1.add_edge(pai[i], i)\n",
    "        \n",
    "# Desenho de G1\n",
    "nx.draw(G1, with_labels=True, font_weight='bold')\n",
    "plt.show()"
   ]
  },
  {
   "cell_type": "markdown",
   "metadata": {},
   "source": [
    "Mas ainda não respondemos a pergunta: como definir que um grafo tem algum ciclo? Basta testarmos se $G$ possui uma aresta (ou arco, se for o caso) de retorno. Assim, na função *DFS_VISIT*, devemos verificar se um vértice **cinza** aponta para outro vértice vizinho **cinza**."
   ]
  },
  {
   "cell_type": "code",
   "execution_count": 5,
   "metadata": {},
   "outputs": [],
   "source": [
    "# Inicializando as estruturas novamente\n",
    "cor = ['B' for i in range(n)]\n",
    "\n",
    "# Pai de cada vertice na DFS\n",
    "pai = [-1 for i in range(n)]\n",
    "\n",
    "# Tempo de descoberta do vertice na DFS\n",
    "desc = [INFINITO for i in range(n)]\n",
    "\n",
    "# Tempo de fechamento do vertice na DFS\n",
    "fech = [INFINITO for i in range(n)]\n",
    "\n",
    "# Tempo atual\n",
    "t_atual = 0\n",
    "\n",
    "# Variavel que indica a continuidade da DFS\n",
    "continua = True\n",
    "\n",
    "'''\n",
    "Parametros:\n",
    "grafo - corresponde a uma estrutura de dados em grafo\n",
    "s - vertice de origem\n",
    "'''\n",
    "def DFS_VISIT_DETEC_CICLO(grafo, s):\n",
    "    global t_atual\n",
    "    global continua\n",
    "    \n",
    "    if(continua):\n",
    "        # Inicializando o vertice origem\n",
    "        desc[s] = t_atual\n",
    "        cor[s] = 'C'\n",
    "        t_atual = t_atual + 1\n",
    "\n",
    "        vizinhos = obtemVizinhos(grafo, s)\n",
    "\n",
    "        for v in vizinhos:\n",
    "            if(cor[v] == 'B'):\n",
    "                print(\"(\", s, \",\", v, \") eh aresta de arvore\")\n",
    "                cor[v] = 'C'\n",
    "                pai[v] = s\n",
    "                DFS_VISIT_DETEC_CICLO(grafo, v)\n",
    "\n",
    "            elif(cor[v] == 'C'):\n",
    "                print(\"(\", s, \",\", v, \") eh aresta de retorno\")\n",
    "                print(\"O grafo tem um ciclo\")\n",
    "                continua = False\n",
    "\n",
    "        cor[s] = 'P'\n",
    "        t_atual = t_atual + 1\n",
    "        fech[s] = t_atual\n",
    "\n",
    "def DFS_DETEC_CICLO(grafo):\n",
    "    for u in range(n):\n",
    "        if(cor[u] == 'B' and continua):\n",
    "            DFS_VISIT_DETEC_CICLO(grafo, u)"
   ]
  },
  {
   "cell_type": "markdown",
   "metadata": {},
   "source": [
    "#### Testando"
   ]
  },
  {
   "cell_type": "code",
   "execution_count": 6,
   "metadata": {},
   "outputs": [
    {
     "name": "stdout",
     "output_type": "stream",
     "text": [
      "( 0 , 1 ) eh aresta de arvore\n",
      "( 1 , 2 ) eh aresta de arvore\n",
      "( 2 , 3 ) eh aresta de arvore\n",
      "( 3 , 1 ) eh aresta de retorno\n",
      "O grafo tem um ciclo\n"
     ]
    }
   ],
   "source": [
    "DFS_DETEC_CICLO(listaAdj)"
   ]
  },
  {
   "cell_type": "markdown",
   "metadata": {},
   "source": [
    "### Exercício\n",
    "\n",
    "* Qual é a complexidade de encontrar um ciclo, independente do grafo?  \n",
    "\n",
    "* Implemente uma função, baseada na DFS, que verifica se um grafo não-direcionado e não-ponderado é um **grafo bipartido**.  "
   ]
  }
 ],
 "metadata": {
  "kernelspec": {
   "display_name": "Python 3",
   "language": "python",
   "name": "python3"
  },
  "language_info": {
   "codemirror_mode": {
    "name": "ipython",
    "version": 3
   },
   "file_extension": ".py",
   "mimetype": "text/x-python",
   "name": "python",
   "nbconvert_exporter": "python",
   "pygments_lexer": "ipython3",
   "version": "3.8.2"
  }
 },
 "nbformat": 4,
 "nbformat_minor": 2
}
